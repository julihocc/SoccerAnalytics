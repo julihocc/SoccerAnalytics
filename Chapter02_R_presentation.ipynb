{
 "cells": [
  {
   "cell_type": "markdown",
   "id": "7093a24f",
   "metadata": {},
   "source": [
    "# Chapter 2: Statistical Analysis in Soccer - Basic Data Analysis\n",
    "\n",
    "This notebook demonstrates fundamental data analysis techniques in R, including:\n",
    "- Basic data manipulation\n",
    "- Descriptive statistics\n",
    "- Data visualization\n",
    "- Statistical testing\n",
    "- Working with external data"
   ]
  },
  {
   "cell_type": "markdown",
   "id": "f26bf6d5",
   "metadata": {},
   "source": [
    "## Example 2.1: Basic Data Manipulation\n",
    "\n",
    "Working with basic vectors and calculating summary statistics for match data."
   ]
  },
  {
   "cell_type": "code",
   "execution_count": 1,
   "id": "0c276bdc",
   "metadata": {
    "vscode": {
     "languageId": "r"
    }
   },
   "outputs": [
    {
     "name": "stdout",
     "output_type": "stream",
     "text": [
      " [1]  1  2  3  4  5  6  7  8  9 10\n",
      " [1] 0 2 4 1 3 0 2 2 3 1\n",
      " [1] 1 1 3 3 0 0 1 1 1 0\n",
      " [1] -1  1  1 -2  3  0  1  1  2  1\n",
      "Goals For Statistics:\n",
      "Mean: 1.8 \n",
      " [1] 0 2 4 1 3 0 2 2 3 1\n",
      " [1] 1 1 3 3 0 0 1 1 1 0\n",
      " [1] -1  1  1 -2  3  0  1  1  2  1\n",
      "Goals For Statistics:\n",
      "Mean: 1.8 \n",
      "Median: 2 \n",
      "SD: 1.316561 \n",
      "Variance: 1.733333 \n",
      "\n",
      "Goals Against Statistics:\n",
      "Mean: 1.1 \n",
      "Median: 1 \n",
      "Median: 2 \n",
      "SD: 1.316561 \n",
      "Variance: 1.733333 \n",
      "\n",
      "Goals Against Statistics:\n",
      "Mean: 1.1 \n",
      "Median: 1 \n",
      "SD: 1.101 \n",
      "Variance: 1.211 \n",
      "\n",
      "Goal Difference Statistics:\n",
      "Mean: 0.7 \n",
      "Median: 1 \n",
      "SD: 1.101 \n",
      "Variance: 1.211 \n",
      "\n",
      "Goal Difference Statistics:\n",
      "Mean: 0.7 \n",
      "Median: 1 \n",
      "SD: 1.418 \n",
      "Variance: 2.011 \n",
      "   MatchID GoalsFor GoalsAgainst GoalDiff\n",
      "1        1        0            1       -1\n",
      "2        2        2            1        1\n",
      "3        3        4            3        1\n",
      "4        4        1            3       -2\n",
      "5        5        3            0        3\n",
      "6        6        0            0        0\n",
      "7        7        2            1        1\n",
      "8        8        2            1        1\n",
      "9        9        3            1        2\n",
      "10      10        1            0        1\n",
      "SD: 1.418 \n",
      "Variance: 2.011 \n",
      "   MatchID GoalsFor GoalsAgainst GoalDiff\n",
      "1        1        0            1       -1\n",
      "2        2        2            1        1\n",
      "3        3        4            3        1\n",
      "4        4        1            3       -2\n",
      "5        5        3            0        3\n",
      "6        6        0            0        0\n",
      "7        7        2            1        1\n",
      "8        8        2            1        1\n",
      "9        9        3            1        2\n",
      "10      10        1            0        1\n"
     ]
    }
   ],
   "source": [
    "# Clear workspace\n",
    "rm(list = ls())    \n",
    "\n",
    "# Create match data\n",
    "MatchID <- c(1:10)  \n",
    "print(MatchID)  \n",
    "\n",
    "GoalsFor <- c(0,2,4,1,3,0,2,2,3,1)   \n",
    "print(GoalsFor)  \n",
    "\n",
    "GoalsAgainst <- c(1,1,3,3,0,0,1,1,1,0)  \n",
    "print(GoalsAgainst)  \n",
    "\n",
    "GoalDiff <- GoalsFor-GoalsAgainst   \n",
    "print(GoalDiff)   \n",
    "\n",
    "# Calculate summary statistics\n",
    "# Goals scored:\n",
    "cat(\"Goals For Statistics:\\n\")\n",
    "cat(\"Mean:\", mean(GoalsFor), \"\\n\")\n",
    "cat(\"Median:\", median(GoalsFor), \"\\n\")\n",
    "cat(\"SD:\", sd(GoalsFor), \"\\n\")\n",
    "cat(\"Variance:\", var(GoalsFor), \"\\n\\n\")\n",
    "\n",
    "# Goals conceded:\n",
    "cat(\"Goals Against Statistics:\\n\")\n",
    "cat(\"Mean:\", round(mean(GoalsAgainst),3), \"\\n\")\n",
    "cat(\"Median:\", round(median(GoalsAgainst),3), \"\\n\")\n",
    "cat(\"SD:\", round(sd(GoalsAgainst),3), \"\\n\")\n",
    "cat(\"Variance:\", round(var(GoalsAgainst),3), \"\\n\\n\")\n",
    "\n",
    "# Goal difference:\n",
    "cat(\"Goal Difference Statistics:\\n\")\n",
    "cat(\"Mean:\", round(mean(GoalDiff),3), \"\\n\")\n",
    "cat(\"Median:\", round(median(GoalDiff),3), \"\\n\")\n",
    "cat(\"SD:\", round(sd(GoalDiff),3), \"\\n\")\n",
    "cat(\"Variance:\", round(var(GoalDiff),3), \"\\n\")\n",
    "\n",
    "# Compile data frame\n",
    "goals_dat <- cbind.data.frame(MatchID, GoalsFor, GoalsAgainst, GoalDiff)\n",
    "print(goals_dat)"
   ]
  },
  {
   "cell_type": "markdown",
   "id": "be01e699",
   "metadata": {},
   "source": [
    "## Example 2.2: Data Frame Operations\n",
    "\n",
    "Exploring different ways to examine and manipulate data frames."
   ]
  },
  {
   "cell_type": "code",
   "execution_count": 2,
   "id": "808a9ffa",
   "metadata": {
    "vscode": {
     "languageId": "r"
    }
   },
   "outputs": [
    {
     "data": {
      "text/html": [
       "<style>\n",
       ".list-inline {list-style: none; margin:0; padding: 0}\n",
       ".list-inline>li {display: inline-block}\n",
       ".list-inline>li:not(:last-child)::after {content: \"\\00b7\"; padding: 0 .5ex}\n",
       "</style>\n",
       "<ol class=list-inline><li>'MatchID'</li><li>'GoalsFor'</li><li>'GoalsAgainst'</li><li>'GoalDiff'</li></ol>\n"
      ],
      "text/latex": [
       "\\begin{enumerate*}\n",
       "\\item 'MatchID'\n",
       "\\item 'GoalsFor'\n",
       "\\item 'GoalsAgainst'\n",
       "\\item 'GoalDiff'\n",
       "\\end{enumerate*}\n"
      ],
      "text/markdown": [
       "1. 'MatchID'\n",
       "2. 'GoalsFor'\n",
       "3. 'GoalsAgainst'\n",
       "4. 'GoalDiff'\n",
       "\n",
       "\n"
      ],
      "text/plain": [
       "[1] \"MatchID\"      \"GoalsFor\"     \"GoalsAgainst\" \"GoalDiff\"    "
      ]
     },
     "metadata": {},
     "output_type": "display_data"
    },
    {
     "data": {
      "text/html": [
       "<table class=\"dataframe\">\n",
       "<caption>A data.frame: 6 × 4</caption>\n",
       "<thead>\n",
       "\t<tr><th></th><th scope=col>MatchID</th><th scope=col>GoalsFor</th><th scope=col>GoalsAgainst</th><th scope=col>GoalDiff</th></tr>\n",
       "\t<tr><th></th><th scope=col>&lt;int&gt;</th><th scope=col>&lt;dbl&gt;</th><th scope=col>&lt;dbl&gt;</th><th scope=col>&lt;dbl&gt;</th></tr>\n",
       "</thead>\n",
       "<tbody>\n",
       "\t<tr><th scope=row>1</th><td>1</td><td>0</td><td>1</td><td>-1</td></tr>\n",
       "\t<tr><th scope=row>2</th><td>2</td><td>2</td><td>1</td><td> 1</td></tr>\n",
       "\t<tr><th scope=row>3</th><td>3</td><td>4</td><td>3</td><td> 1</td></tr>\n",
       "\t<tr><th scope=row>4</th><td>4</td><td>1</td><td>3</td><td>-2</td></tr>\n",
       "\t<tr><th scope=row>5</th><td>5</td><td>3</td><td>0</td><td> 3</td></tr>\n",
       "\t<tr><th scope=row>6</th><td>6</td><td>0</td><td>0</td><td> 0</td></tr>\n",
       "</tbody>\n",
       "</table>\n"
      ],
      "text/latex": [
       "A data.frame: 6 × 4\n",
       "\\begin{tabular}{r|llll}\n",
       "  & MatchID & GoalsFor & GoalsAgainst & GoalDiff\\\\\n",
       "  & <int> & <dbl> & <dbl> & <dbl>\\\\\n",
       "\\hline\n",
       "\t1 & 1 & 0 & 1 & -1\\\\\n",
       "\t2 & 2 & 2 & 1 &  1\\\\\n",
       "\t3 & 3 & 4 & 3 &  1\\\\\n",
       "\t4 & 4 & 1 & 3 & -2\\\\\n",
       "\t5 & 5 & 3 & 0 &  3\\\\\n",
       "\t6 & 6 & 0 & 0 &  0\\\\\n",
       "\\end{tabular}\n"
      ],
      "text/markdown": [
       "\n",
       "A data.frame: 6 × 4\n",
       "\n",
       "| <!--/--> | MatchID &lt;int&gt; | GoalsFor &lt;dbl&gt; | GoalsAgainst &lt;dbl&gt; | GoalDiff &lt;dbl&gt; |\n",
       "|---|---|---|---|---|\n",
       "| 1 | 1 | 0 | 1 | -1 |\n",
       "| 2 | 2 | 2 | 1 |  1 |\n",
       "| 3 | 3 | 4 | 3 |  1 |\n",
       "| 4 | 4 | 1 | 3 | -2 |\n",
       "| 5 | 5 | 3 | 0 |  3 |\n",
       "| 6 | 6 | 0 | 0 |  0 |\n",
       "\n"
      ],
      "text/plain": [
       "  MatchID GoalsFor GoalsAgainst GoalDiff\n",
       "1 1       0        1            -1      \n",
       "2 2       2        1             1      \n",
       "3 3       4        3             1      \n",
       "4 4       1        3            -2      \n",
       "5 5       3        0             3      \n",
       "6 6       0        0             0      "
      ]
     },
     "metadata": {},
     "output_type": "display_data"
    },
    {
     "data": {
      "text/html": [
       "<table class=\"dataframe\">\n",
       "<caption>A data.frame: 8 × 4</caption>\n",
       "<thead>\n",
       "\t<tr><th></th><th scope=col>MatchID</th><th scope=col>GoalsFor</th><th scope=col>GoalsAgainst</th><th scope=col>GoalDiff</th></tr>\n",
       "\t<tr><th></th><th scope=col>&lt;int&gt;</th><th scope=col>&lt;dbl&gt;</th><th scope=col>&lt;dbl&gt;</th><th scope=col>&lt;dbl&gt;</th></tr>\n",
       "</thead>\n",
       "<tbody>\n",
       "\t<tr><th scope=row>1</th><td>1</td><td>0</td><td>1</td><td>-1</td></tr>\n",
       "\t<tr><th scope=row>2</th><td>2</td><td>2</td><td>1</td><td> 1</td></tr>\n",
       "\t<tr><th scope=row>3</th><td>3</td><td>4</td><td>3</td><td> 1</td></tr>\n",
       "\t<tr><th scope=row>4</th><td>4</td><td>1</td><td>3</td><td>-2</td></tr>\n",
       "\t<tr><th scope=row>5</th><td>5</td><td>3</td><td>0</td><td> 3</td></tr>\n",
       "\t<tr><th scope=row>6</th><td>6</td><td>0</td><td>0</td><td> 0</td></tr>\n",
       "\t<tr><th scope=row>7</th><td>7</td><td>2</td><td>1</td><td> 1</td></tr>\n",
       "\t<tr><th scope=row>8</th><td>8</td><td>2</td><td>1</td><td> 1</td></tr>\n",
       "</tbody>\n",
       "</table>\n"
      ],
      "text/latex": [
       "A data.frame: 8 × 4\n",
       "\\begin{tabular}{r|llll}\n",
       "  & MatchID & GoalsFor & GoalsAgainst & GoalDiff\\\\\n",
       "  & <int> & <dbl> & <dbl> & <dbl>\\\\\n",
       "\\hline\n",
       "\t1 & 1 & 0 & 1 & -1\\\\\n",
       "\t2 & 2 & 2 & 1 &  1\\\\\n",
       "\t3 & 3 & 4 & 3 &  1\\\\\n",
       "\t4 & 4 & 1 & 3 & -2\\\\\n",
       "\t5 & 5 & 3 & 0 &  3\\\\\n",
       "\t6 & 6 & 0 & 0 &  0\\\\\n",
       "\t7 & 7 & 2 & 1 &  1\\\\\n",
       "\t8 & 8 & 2 & 1 &  1\\\\\n",
       "\\end{tabular}\n"
      ],
      "text/markdown": [
       "\n",
       "A data.frame: 8 × 4\n",
       "\n",
       "| <!--/--> | MatchID &lt;int&gt; | GoalsFor &lt;dbl&gt; | GoalsAgainst &lt;dbl&gt; | GoalDiff &lt;dbl&gt; |\n",
       "|---|---|---|---|---|\n",
       "| 1 | 1 | 0 | 1 | -1 |\n",
       "| 2 | 2 | 2 | 1 |  1 |\n",
       "| 3 | 3 | 4 | 3 |  1 |\n",
       "| 4 | 4 | 1 | 3 | -2 |\n",
       "| 5 | 5 | 3 | 0 |  3 |\n",
       "| 6 | 6 | 0 | 0 |  0 |\n",
       "| 7 | 7 | 2 | 1 |  1 |\n",
       "| 8 | 8 | 2 | 1 |  1 |\n",
       "\n"
      ],
      "text/plain": [
       "  MatchID GoalsFor GoalsAgainst GoalDiff\n",
       "1 1       0        1            -1      \n",
       "2 2       2        1             1      \n",
       "3 3       4        3             1      \n",
       "4 4       1        3            -2      \n",
       "5 5       3        0             3      \n",
       "6 6       0        0             0      \n",
       "7 7       2        1             1      \n",
       "8 8       2        1             1      "
      ]
     },
     "metadata": {},
     "output_type": "display_data"
    },
    {
     "data": {
      "text/html": [
       "<table class=\"dataframe\">\n",
       "<caption>A data.frame: 6 × 4</caption>\n",
       "<thead>\n",
       "\t<tr><th></th><th scope=col>MatchID</th><th scope=col>GoalsFor</th><th scope=col>GoalsAgainst</th><th scope=col>GoalDiff</th></tr>\n",
       "\t<tr><th></th><th scope=col>&lt;int&gt;</th><th scope=col>&lt;dbl&gt;</th><th scope=col>&lt;dbl&gt;</th><th scope=col>&lt;dbl&gt;</th></tr>\n",
       "</thead>\n",
       "<tbody>\n",
       "\t<tr><th scope=row>5</th><td> 5</td><td>3</td><td>0</td><td>3</td></tr>\n",
       "\t<tr><th scope=row>6</th><td> 6</td><td>0</td><td>0</td><td>0</td></tr>\n",
       "\t<tr><th scope=row>7</th><td> 7</td><td>2</td><td>1</td><td>1</td></tr>\n",
       "\t<tr><th scope=row>8</th><td> 8</td><td>2</td><td>1</td><td>1</td></tr>\n",
       "\t<tr><th scope=row>9</th><td> 9</td><td>3</td><td>1</td><td>2</td></tr>\n",
       "\t<tr><th scope=row>10</th><td>10</td><td>1</td><td>0</td><td>1</td></tr>\n",
       "</tbody>\n",
       "</table>\n"
      ],
      "text/latex": [
       "A data.frame: 6 × 4\n",
       "\\begin{tabular}{r|llll}\n",
       "  & MatchID & GoalsFor & GoalsAgainst & GoalDiff\\\\\n",
       "  & <int> & <dbl> & <dbl> & <dbl>\\\\\n",
       "\\hline\n",
       "\t5 &  5 & 3 & 0 & 3\\\\\n",
       "\t6 &  6 & 0 & 0 & 0\\\\\n",
       "\t7 &  7 & 2 & 1 & 1\\\\\n",
       "\t8 &  8 & 2 & 1 & 1\\\\\n",
       "\t9 &  9 & 3 & 1 & 2\\\\\n",
       "\t10 & 10 & 1 & 0 & 1\\\\\n",
       "\\end{tabular}\n"
      ],
      "text/markdown": [
       "\n",
       "A data.frame: 6 × 4\n",
       "\n",
       "| <!--/--> | MatchID &lt;int&gt; | GoalsFor &lt;dbl&gt; | GoalsAgainst &lt;dbl&gt; | GoalDiff &lt;dbl&gt; |\n",
       "|---|---|---|---|---|\n",
       "| 5 |  5 | 3 | 0 | 3 |\n",
       "| 6 |  6 | 0 | 0 | 0 |\n",
       "| 7 |  7 | 2 | 1 | 1 |\n",
       "| 8 |  8 | 2 | 1 | 1 |\n",
       "| 9 |  9 | 3 | 1 | 2 |\n",
       "| 10 | 10 | 1 | 0 | 1 |\n",
       "\n"
      ],
      "text/plain": [
       "   MatchID GoalsFor GoalsAgainst GoalDiff\n",
       "5   5      3        0            3       \n",
       "6   6      0        0            0       \n",
       "7   7      2        1            1       \n",
       "8   8      2        1            1       \n",
       "9   9      3        1            2       \n",
       "10 10      1        0            1       "
      ]
     },
     "metadata": {},
     "output_type": "display_data"
    },
    {
     "data": {
      "text/html": [
       "10"
      ],
      "text/latex": [
       "10"
      ],
      "text/markdown": [
       "10"
      ],
      "text/plain": [
       "[1] 10"
      ]
     },
     "metadata": {},
     "output_type": "display_data"
    },
    {
     "data": {
      "text/html": [
       "4"
      ],
      "text/latex": [
       "4"
      ],
      "text/markdown": [
       "4"
      ],
      "text/plain": [
       "[1] 4"
      ]
     },
     "metadata": {},
     "output_type": "display_data"
    },
    {
     "data": {
      "text/html": [
       "<style>\n",
       ".list-inline {list-style: none; margin:0; padding: 0}\n",
       ".list-inline>li {display: inline-block}\n",
       ".list-inline>li:not(:last-child)::after {content: \"\\00b7\"; padding: 0 .5ex}\n",
       "</style>\n",
       "<ol class=list-inline><li>10</li><li>4</li></ol>\n"
      ],
      "text/latex": [
       "\\begin{enumerate*}\n",
       "\\item 10\n",
       "\\item 4\n",
       "\\end{enumerate*}\n"
      ],
      "text/markdown": [
       "1. 10\n",
       "2. 4\n",
       "\n",
       "\n"
      ],
      "text/plain": [
       "[1] 10  4"
      ]
     },
     "metadata": {},
     "output_type": "display_data"
    },
    {
     "name": "stdout",
     "output_type": "stream",
     "text": [
      "'data.frame':\t10 obs. of  4 variables:\n",
      " $ MatchID     : int  1 2 3 4 5 6 7 8 9 10\n",
      " $ GoalsFor    : num  0 2 4 1 3 0 2 2 3 1\n",
      " $ GoalsAgainst: num  1 1 3 3 0 0 1 1 1 0\n",
      " $ GoalDiff    : num  -1 1 1 -2 3 0 1 1 2 1\n",
      "[1] \"Goals For using $ notation:\"\n",
      "[1] \"Goals For using $ notation:\"\n"
     ]
    },
    {
     "data": {
      "text/html": [
       "<style>\n",
       ".list-inline {list-style: none; margin:0; padding: 0}\n",
       ".list-inline>li {display: inline-block}\n",
       ".list-inline>li:not(:last-child)::after {content: \"\\00b7\"; padding: 0 .5ex}\n",
       "</style>\n",
       "<ol class=list-inline><li>0</li><li>2</li><li>4</li><li>1</li><li>3</li><li>0</li><li>2</li><li>2</li><li>3</li><li>1</li></ol>\n"
      ],
      "text/latex": [
       "\\begin{enumerate*}\n",
       "\\item 0\n",
       "\\item 2\n",
       "\\item 4\n",
       "\\item 1\n",
       "\\item 3\n",
       "\\item 0\n",
       "\\item 2\n",
       "\\item 2\n",
       "\\item 3\n",
       "\\item 1\n",
       "\\end{enumerate*}\n"
      ],
      "text/markdown": [
       "1. 0\n",
       "2. 2\n",
       "3. 4\n",
       "4. 1\n",
       "5. 3\n",
       "6. 0\n",
       "7. 2\n",
       "8. 2\n",
       "9. 3\n",
       "10. 1\n",
       "\n",
       "\n"
      ],
      "text/plain": [
       " [1] 0 2 4 1 3 0 2 2 3 1"
      ]
     },
     "metadata": {},
     "output_type": "display_data"
    },
    {
     "name": "stdout",
     "output_type": "stream",
     "text": [
      "[1] \"\\nGoals For using column index:\"\n"
     ]
    },
    {
     "data": {
      "text/html": [
       "<style>\n",
       ".list-inline {list-style: none; margin:0; padding: 0}\n",
       ".list-inline>li {display: inline-block}\n",
       ".list-inline>li:not(:last-child)::after {content: \"\\00b7\"; padding: 0 .5ex}\n",
       "</style>\n",
       "<ol class=list-inline><li>0</li><li>2</li><li>4</li><li>1</li><li>3</li><li>0</li><li>2</li><li>2</li><li>3</li><li>1</li></ol>\n"
      ],
      "text/latex": [
       "\\begin{enumerate*}\n",
       "\\item 0\n",
       "\\item 2\n",
       "\\item 4\n",
       "\\item 1\n",
       "\\item 3\n",
       "\\item 0\n",
       "\\item 2\n",
       "\\item 2\n",
       "\\item 3\n",
       "\\item 1\n",
       "\\end{enumerate*}\n"
      ],
      "text/markdown": [
       "1. 0\n",
       "2. 2\n",
       "3. 4\n",
       "4. 1\n",
       "5. 3\n",
       "6. 0\n",
       "7. 2\n",
       "8. 2\n",
       "9. 3\n",
       "10. 1\n",
       "\n",
       "\n"
      ],
      "text/plain": [
       " [1] 0 2 4 1 3 0 2 2 3 1"
      ]
     },
     "metadata": {},
     "output_type": "display_data"
    },
    {
     "name": "stdout",
     "output_type": "stream",
     "text": [
      "[1] \"\\nGoals For and Against:\"\n"
     ]
    },
    {
     "data": {
      "text/html": [
       "<table class=\"dataframe\">\n",
       "<caption>A data.frame: 10 × 2</caption>\n",
       "<thead>\n",
       "\t<tr><th scope=col>GoalsFor</th><th scope=col>GoalsAgainst</th></tr>\n",
       "\t<tr><th scope=col>&lt;dbl&gt;</th><th scope=col>&lt;dbl&gt;</th></tr>\n",
       "</thead>\n",
       "<tbody>\n",
       "\t<tr><td>0</td><td>1</td></tr>\n",
       "\t<tr><td>2</td><td>1</td></tr>\n",
       "\t<tr><td>4</td><td>3</td></tr>\n",
       "\t<tr><td>1</td><td>3</td></tr>\n",
       "\t<tr><td>3</td><td>0</td></tr>\n",
       "\t<tr><td>0</td><td>0</td></tr>\n",
       "\t<tr><td>2</td><td>1</td></tr>\n",
       "\t<tr><td>2</td><td>1</td></tr>\n",
       "\t<tr><td>3</td><td>1</td></tr>\n",
       "\t<tr><td>1</td><td>0</td></tr>\n",
       "</tbody>\n",
       "</table>\n"
      ],
      "text/latex": [
       "A data.frame: 10 × 2\n",
       "\\begin{tabular}{ll}\n",
       " GoalsFor & GoalsAgainst\\\\\n",
       " <dbl> & <dbl>\\\\\n",
       "\\hline\n",
       "\t 0 & 1\\\\\n",
       "\t 2 & 1\\\\\n",
       "\t 4 & 3\\\\\n",
       "\t 1 & 3\\\\\n",
       "\t 3 & 0\\\\\n",
       "\t 0 & 0\\\\\n",
       "\t 2 & 1\\\\\n",
       "\t 2 & 1\\\\\n",
       "\t 3 & 1\\\\\n",
       "\t 1 & 0\\\\\n",
       "\\end{tabular}\n"
      ],
      "text/markdown": [
       "\n",
       "A data.frame: 10 × 2\n",
       "\n",
       "| GoalsFor &lt;dbl&gt; | GoalsAgainst &lt;dbl&gt; |\n",
       "|---|---|\n",
       "| 0 | 1 |\n",
       "| 2 | 1 |\n",
       "| 4 | 3 |\n",
       "| 1 | 3 |\n",
       "| 3 | 0 |\n",
       "| 0 | 0 |\n",
       "| 2 | 1 |\n",
       "| 2 | 1 |\n",
       "| 3 | 1 |\n",
       "| 1 | 0 |\n",
       "\n"
      ],
      "text/plain": [
       "   GoalsFor GoalsAgainst\n",
       "1  0        1           \n",
       "2  2        1           \n",
       "3  4        3           \n",
       "4  1        3           \n",
       "5  3        0           \n",
       "6  0        0           \n",
       "7  2        1           \n",
       "8  2        1           \n",
       "9  3        1           \n",
       "10 1        0           "
      ]
     },
     "metadata": {},
     "output_type": "display_data"
    },
    {
     "name": "stdout",
     "output_type": "stream",
     "text": [
      "[1] \"\\nRows 3-5:\"\n"
     ]
    },
    {
     "data": {
      "text/html": [
       "<table class=\"dataframe\">\n",
       "<caption>A data.frame: 3 × 4</caption>\n",
       "<thead>\n",
       "\t<tr><th></th><th scope=col>MatchID</th><th scope=col>GoalsFor</th><th scope=col>GoalsAgainst</th><th scope=col>GoalDiff</th></tr>\n",
       "\t<tr><th></th><th scope=col>&lt;int&gt;</th><th scope=col>&lt;dbl&gt;</th><th scope=col>&lt;dbl&gt;</th><th scope=col>&lt;dbl&gt;</th></tr>\n",
       "</thead>\n",
       "<tbody>\n",
       "\t<tr><th scope=row>3</th><td>3</td><td>4</td><td>3</td><td> 1</td></tr>\n",
       "\t<tr><th scope=row>4</th><td>4</td><td>1</td><td>3</td><td>-2</td></tr>\n",
       "\t<tr><th scope=row>5</th><td>5</td><td>3</td><td>0</td><td> 3</td></tr>\n",
       "</tbody>\n",
       "</table>\n"
      ],
      "text/latex": [
       "A data.frame: 3 × 4\n",
       "\\begin{tabular}{r|llll}\n",
       "  & MatchID & GoalsFor & GoalsAgainst & GoalDiff\\\\\n",
       "  & <int> & <dbl> & <dbl> & <dbl>\\\\\n",
       "\\hline\n",
       "\t3 & 3 & 4 & 3 &  1\\\\\n",
       "\t4 & 4 & 1 & 3 & -2\\\\\n",
       "\t5 & 5 & 3 & 0 &  3\\\\\n",
       "\\end{tabular}\n"
      ],
      "text/markdown": [
       "\n",
       "A data.frame: 3 × 4\n",
       "\n",
       "| <!--/--> | MatchID &lt;int&gt; | GoalsFor &lt;dbl&gt; | GoalsAgainst &lt;dbl&gt; | GoalDiff &lt;dbl&gt; |\n",
       "|---|---|---|---|---|\n",
       "| 3 | 3 | 4 | 3 |  1 |\n",
       "| 4 | 4 | 1 | 3 | -2 |\n",
       "| 5 | 5 | 3 | 0 |  3 |\n",
       "\n"
      ],
      "text/plain": [
       "  MatchID GoalsFor GoalsAgainst GoalDiff\n",
       "3 3       4        3             1      \n",
       "4 4       1        3            -2      \n",
       "5 5       3        0             3      "
      ]
     },
     "metadata": {},
     "output_type": "display_data"
    }
   ],
   "source": [
    "# Examine data frame structure\n",
    "names(goals_dat)\n",
    "\n",
    "head(goals_dat)\n",
    "\n",
    "head(goals_dat, 8)  # First eight rows\n",
    "\n",
    "tail(goals_dat)\n",
    "\n",
    "# Data frame dimensions\n",
    "nrow(goals_dat)  # Number of rows\n",
    "ncol(goals_dat)  # Number of columns\n",
    "dim(goals_dat)   # Both dimensions\n",
    "\n",
    "str(goals_dat)   # Structure of the data\n",
    "\n",
    "# Different methods to access data\n",
    "# Method 1: Using $ notation\n",
    "print(\"Goals For using $ notation:\")\n",
    "goals_dat$GoalsFor  \n",
    "\n",
    "# Method 2: Using square brackets\n",
    "print(\"\\nGoals For using column index:\")\n",
    "goals_dat[,2]  \n",
    "\n",
    "# Multiple columns\n",
    "print(\"\\nGoals For and Against:\")\n",
    "goals_dat[,c(2,3)]  \n",
    "\n",
    "# Selecting specific rows\n",
    "print(\"\\nRows 3-5:\")\n",
    "goals_dat[c(3,4,5),]"
   ]
  },
  {
   "cell_type": "markdown",
   "id": "7e60e7d6",
   "metadata": {},
   "source": [
    "## Example 2.3: Conditional Operations\n",
    "\n",
    "Demonstrating different methods for creating match outcomes using conditional logic."
   ]
  },
  {
   "cell_type": "code",
   "execution_count": 3,
   "id": "6745f901",
   "metadata": {
    "vscode": {
     "languageId": "r"
    }
   },
   "outputs": [
    {
     "name": "stdout",
     "output_type": "stream",
     "text": [
      "[1] \"Outcome using ifelse:\"\n",
      " [1] \"Did not win\" \"Win\"         \"Win\"         \"Did not win\" \"Win\"        \n",
      " [6] \"Did not win\" \"Win\"         \"Win\"         \"Win\"         \"Win\"        \n",
      " [1] \"Did not win\" \"Win\"         \"Win\"         \"Did not win\" \"Win\"        \n",
      " [6] \"Did not win\" \"Win\"         \"Win\"         \"Win\"         \"Win\"        \n",
      "[1] \"\\nOutcome using for loop:\"\n",
      " [1] \"Lose\" \"Win\"  \"Win\"  \"Lose\" \"Win\"  \"Draw\" \"Win\"  \"Win\"  \"Win\"  \"Win\" \n",
      "[1] \"\\nOutcome using for loop:\"\n",
      " [1] \"Lose\" \"Win\"  \"Win\"  \"Lose\" \"Win\"  \"Draw\" \"Win\"  \"Win\"  \"Win\"  \"Win\" \n"
     ]
    },
    {
     "data": {
      "text/html": [
       "<style>\n",
       ".list-inline {list-style: none; margin:0; padding: 0}\n",
       ".list-inline>li {display: inline-block}\n",
       ".list-inline>li:not(:last-child)::after {content: \"\\00b7\"; padding: 0 .5ex}\n",
       "</style>\n",
       "<ol class=list-inline><li>'MatchID'</li><li>'GoalsFor'</li><li>'GoalsAgainst'</li><li>'GoalDiff'</li><li>'outcome2'</li></ol>\n"
      ],
      "text/latex": [
       "\\begin{enumerate*}\n",
       "\\item 'MatchID'\n",
       "\\item 'GoalsFor'\n",
       "\\item 'GoalsAgainst'\n",
       "\\item 'GoalDiff'\n",
       "\\item 'outcome2'\n",
       "\\end{enumerate*}\n"
      ],
      "text/markdown": [
       "1. 'MatchID'\n",
       "2. 'GoalsFor'\n",
       "3. 'GoalsAgainst'\n",
       "4. 'GoalDiff'\n",
       "5. 'outcome2'\n",
       "\n",
       "\n"
      ],
      "text/plain": [
       "[1] \"MatchID\"      \"GoalsFor\"     \"GoalsAgainst\" \"GoalDiff\"     \"outcome2\"    "
      ]
     },
     "metadata": {},
     "output_type": "display_data"
    },
    {
     "name": "stdout",
     "output_type": "stream",
     "text": [
      "[1] \"\\nFinal data frame:\"\n",
      "   MatchID GoalsFor GoalsAgainst GoalDiff Result\n",
      "1        1        0            1       -1   Lose\n",
      "2        2        2            1        1    Win\n",
      "3        3        4            3        1    Win\n",
      "4        4        1            3       -2   Lose\n",
      "5        5        3            0        3    Win\n",
      "6        6        0            0        0   Draw\n",
      "7        7        2            1        1    Win\n",
      "8        8        2            1        1    Win\n",
      "9        9        3            1        2    Win\n",
      "10      10        1            0        1    Win\n",
      "[1] \"\\nWinning matches:\"\n",
      "   MatchID GoalsFor GoalsAgainst GoalDiff Result\n",
      "2        2        2            1        1    Win\n",
      "3        3        4            3        1    Win\n",
      "5        5        3            0        3    Win\n",
      "7        7        2            1        1    Win\n",
      "8        8        2            1        1    Win\n",
      "9        9        3            1        2    Win\n",
      "10      10        1            0        1    Win\n",
      "   MatchID GoalsFor GoalsAgainst GoalDiff Result\n",
      "1        1        0            1       -1   Lose\n",
      "2        2        2            1        1    Win\n",
      "3        3        4            3        1    Win\n",
      "4        4        1            3       -2   Lose\n",
      "5        5        3            0        3    Win\n",
      "6        6        0            0        0   Draw\n",
      "7        7        2            1        1    Win\n",
      "8        8        2            1        1    Win\n",
      "9        9        3            1        2    Win\n",
      "10      10        1            0        1    Win\n",
      "[1] \"\\nWinning matches:\"\n",
      "   MatchID GoalsFor GoalsAgainst GoalDiff Result\n",
      "2        2        2            1        1    Win\n",
      "3        3        4            3        1    Win\n",
      "5        5        3            0        3    Win\n",
      "7        7        2            1        1    Win\n",
      "8        8        2            1        1    Win\n",
      "9        9        3            1        2    Win\n",
      "10      10        1            0        1    Win\n"
     ]
    }
   ],
   "source": [
    "# Method 1: Using ifelse\n",
    "outcome1 <- ifelse(goals_dat$GoalsFor > goals_dat$GoalsAgainst, \"Win\", \"Did not win\")\n",
    "print(\"Outcome using ifelse:\")\n",
    "print(outcome1)\n",
    "\n",
    "# Method 2: Using if statements and for loop\n",
    "outcome2 <- c()  # Empty vector for results\n",
    "n <- nrow(goals_dat)  \n",
    "for(i in 1:n){\n",
    "  if(goals_dat$GoalsFor[i] > goals_dat$GoalsAgainst[i]){outcome2[i] <- \"Win\"}\n",
    "  if(goals_dat$GoalsFor[i] < goals_dat$GoalsAgainst[i]){outcome2[i] <- \"Lose\"}\n",
    "  if(goals_dat$GoalsFor[i] == goals_dat$GoalsAgainst[i]){outcome2[i] <- \"Draw\"}\n",
    "}\n",
    "\n",
    "print(\"\\nOutcome using for loop:\")\n",
    "print(outcome2)\n",
    "\n",
    "# Add results to data frame\n",
    "match_dat <- cbind.data.frame(goals_dat, outcome2)\n",
    "names(match_dat)\n",
    "\n",
    "# Rename outcome2 column\n",
    "colnames(match_dat)[colnames(match_dat) == 'outcome2'] <- 'Result'\n",
    "print(\"\\nFinal data frame:\")\n",
    "print(match_dat)\n",
    "\n",
    "# Filter for wins\n",
    "winResults <- match_dat[match_dat$Result == \"Win\",]\n",
    "print(\"\\nWinning matches:\")\n",
    "print(winResults)"
   ]
  },
  {
   "cell_type": "markdown",
   "id": "3daf92a8",
   "metadata": {},
   "source": [
    "## Example 2.4: Advanced Descriptive Statistics\n",
    "\n",
    "Using the psych package for more comprehensive statistical analysis."
   ]
  },
  {
   "cell_type": "code",
   "execution_count": 4,
   "id": "e18feab2",
   "metadata": {
    "vscode": {
     "languageId": "r"
    }
   },
   "outputs": [
    {
     "name": "stdout",
     "output_type": "stream",
     "text": [
      "[1] \"Basic summary:\"\n"
     ]
    },
    {
     "data": {
      "text/plain": [
       "    MatchID         GoalsFor     GoalsAgainst     GoalDiff    \n",
       " Min.   : 1.00   Min.   :0.00   Min.   :0.00   Min.   :-2.00  \n",
       " 1st Qu.: 3.25   1st Qu.:1.00   1st Qu.:0.25   1st Qu.: 0.25  \n",
       " Median : 5.50   Median :2.00   Median :1.00   Median : 1.00  \n",
       " Mean   : 5.50   Mean   :1.80   Mean   :1.10   Mean   : 0.70  \n",
       " 3rd Qu.: 7.75   3rd Qu.:2.75   3rd Qu.:1.00   3rd Qu.: 1.00  \n",
       " Max.   :10.00   Max.   :4.00   Max.   :3.00   Max.   : 3.00  \n",
       "    Result         \n",
       " Length:10         \n",
       " Class :character  \n",
       " Mode  :character  \n",
       "                   \n",
       "                   \n",
       "                   "
      ]
     },
     "metadata": {},
     "output_type": "display_data"
    },
    {
     "ename": "ERROR",
     "evalue": "Error in library(psych): there is no package called ‘psych’\n",
     "output_type": "error",
     "traceback": [
      "Error in library(psych): there is no package called ‘psych’\nTraceback:\n",
      "1. stop(packageNotFoundError(package, lib.loc, sys.call()))"
     ]
    }
   ],
   "source": [
    "# Basic summary\n",
    "print(\"Basic summary:\")\n",
    "summary(match_dat)\n",
    "\n",
    "# Load psych package\n",
    "library(psych)\n",
    "\n",
    "# Detailed descriptive statistics\n",
    "print(\"\\nDetailed statistics:\")\n",
    "des_res <- describeBy(match_dat[,c(2:4)])\n",
    "print(des_res)"
   ]
  },
  {
   "cell_type": "markdown",
   "id": "f66a2ef7",
   "metadata": {},
   "source": [
    "## Example 2.5: Working with External Data\n",
    "\n",
    "Reading and analyzing the Arsenal-Chelsea comparison dataset."
   ]
  },
  {
   "cell_type": "code",
   "execution_count": null,
   "id": "0bc32878",
   "metadata": {
    "vscode": {
     "languageId": "r"
    }
   },
   "outputs": [],
   "source": [
    "# Clear workspace and read data\n",
    "rm(list = ls())\n",
    "dat <- read.csv(\"Arsenal_Chelsea_comparison.csv\")\n",
    "print(\"Data overview:\")\n",
    "print(dat)\n",
    "\n",
    "# Produce descriptive statistics\n",
    "library(psych)\n",
    "des_results <- describeBy(dat[,c(2:7)])\n",
    "print(\"\\nDescriptive statistics:\")\n",
    "print(des_results)"
   ]
  },
  {
   "cell_type": "markdown",
   "id": "db8553fe",
   "metadata": {},
   "source": [
    "## Example 2.6: Time Series Visualization\n",
    "\n",
    "Creating a time series plot comparing Arsenal and Chelsea's performance."
   ]
  },
  {
   "cell_type": "code",
   "execution_count": null,
   "id": "2c78ac54",
   "metadata": {
    "vscode": {
     "languageId": "r"
    }
   },
   "outputs": [],
   "source": [
    "# Create time series plot\n",
    "seasons <- c(\"2011\",\"2012\",\"2013\",\"2014\",\"2015\",\"2016\",\"2017\",\"2018\",\"2019\",\"2020\")\n",
    "\n",
    "plot(seasons, dat$Arsenal_GF, type=\"o\", lty=1, pch=20, col=\"black\", ylim=c(0,140), \n",
    "     ylab=\"Goals\", xlab=\"Season\")\n",
    "lines(seasons, dat$Chelsea_GF, type=\"o\", lty=2, pch=20)\n",
    "lines(seasons, dat$Arsenal_GA, type=\"o\", lty=1, pch=4)\n",
    "lines(seasons, dat$Chelsea_GA, type=\"o\", lty=2, pch=4)\n",
    "legend(2011,145, c(\"Arsenal goals for\",\"Arsenal goals against\",\"Chelsea goals for\",\n",
    "      \"Chelsea goals against\"), cex=0.8, col=c(\"black\",\"black\",\"black\",\"black\"),\n",
    "       lty=c(1,1,2,2), pch=c(20,4,20,4), bty = \"n\")\n",
    "title(\"Arsenal and Chelsea comparison\")"
   ]
  },
  {
   "cell_type": "markdown",
   "id": "66528b9e",
   "metadata": {},
   "source": [
    "## Example 2.7: Box Plot Analysis\n",
    "\n",
    "Comparing goal distributions using box plots."
   ]
  },
  {
   "cell_type": "code",
   "execution_count": null,
   "id": "1569afaf",
   "metadata": {
    "vscode": {
     "languageId": "r"
    }
   },
   "outputs": [],
   "source": [
    "# Create box plot\n",
    "boxplot(dat[,c(2,3,5,6)], ylab=\"Goals\")\n",
    "\n",
    "# Show summary statistics\n",
    "summary(dat[,c(2,3,5,6)])"
   ]
  },
  {
   "cell_type": "markdown",
   "id": "212c1e05",
   "metadata": {},
   "source": [
    "## Example 2.8: Scatter Plot with Regression Lines\n",
    "\n",
    "Analyzing the relationship between goals conceded and points."
   ]
  },
  {
   "cell_type": "code",
   "execution_count": null,
   "id": "270434fa",
   "metadata": {
    "vscode": {
     "languageId": "r"
    }
   },
   "outputs": [],
   "source": [
    "# Create scatter plot with regression lines\n",
    "plot(dat$Chelsea_GA, dat$Chelsea_points, pch=20, col=\"black\", xlim=c(0,60), \n",
    "     ylim=c(0,100), ylab=\"Points\", xlab=\"Goals conceded\")\n",
    "points(dat$Arsenal_GA, dat$Chelsea_points, pch=4)\n",
    "abline(lm(dat$Chelsea_points ~ dat$Chelsea_GA), lty=1)\n",
    "abline(lm(dat$Arsenal_points ~ dat$Arsenal_GA), lty=2)\n",
    "legend(5,40, c(\"Arsenal goals conceded\",\"Arsenal bestfit line\",\"Chelsea goals conceded\",\"Chelsea bestfit line\"),\n",
    "       cex=0.8, col=c(\"black\",\"black\",\"black\",\"black\"), \n",
    "       lty=c(0,1,0,2), pch=c(4,NA,20,NA), bty = \"n\")"
   ]
  },
  {
   "cell_type": "markdown",
   "id": "16547b78",
   "metadata": {},
   "source": [
    "## Example 2.9: Statistical Tests\n",
    "\n",
    "Performing paired t-tests and correlation analysis."
   ]
  },
  {
   "cell_type": "code",
   "execution_count": null,
   "id": "a28e84ca",
   "metadata": {
    "vscode": {
     "languageId": "r"
    }
   },
   "outputs": [],
   "source": [
    "# Paired t-tests\n",
    "print(\"Paired t-test for Goals For:\")\n",
    "t.test(dat$Arsenal_GF, dat$Chelsea_GF, paired=TRUE)\n",
    "\n",
    "print(\"\\nPaired t-test for Goals Against:\")\n",
    "t.test(dat$Arsenal_GA, dat$Chelsea_GA, paired=TRUE)\n",
    "\n",
    "# Correlation tests\n",
    "print(\"\\nArsenal correlation test (Goals Against vs Points):\")\n",
    "cor.test(dat$Arsenal_GA,dat$Arsenal_points)\n",
    "\n",
    "print(\"\\nChelsea correlation test (Goals Against vs Points):\")\n",
    "cor.test(dat$Chelsea_GA,dat$Chelsea_points)"
   ]
  },
  {
   "cell_type": "markdown",
   "id": "52c1a27c",
   "metadata": {},
   "source": [
    "## Summary\n",
    "\n",
    "Key concepts covered in this chapter:\n",
    "\n",
    "1. Data Manipulation:\n",
    "   - Vector operations\n",
    "   - Data frame creation and manipulation\n",
    "   - Conditional operations\n",
    "\n",
    "2. Statistical Analysis:\n",
    "   - Basic summary statistics\n",
    "   - Advanced descriptive statistics (psych package)\n",
    "   - Paired t-tests\n",
    "   - Correlation analysis\n",
    "\n",
    "3. Data Visualization:\n",
    "   - Time series plots\n",
    "   - Box plots\n",
    "   - Scatter plots with regression lines\n",
    "\n",
    "4. External Data:\n",
    "   - Reading CSV files\n",
    "   - Data import and export\n",
    "   - Working with real soccer data"
   ]
  }
 ],
 "metadata": {
  "kernelspec": {
   "display_name": "R",
   "language": "R",
   "name": "ir"
  },
  "language_info": {
   "codemirror_mode": "r",
   "file_extension": ".r",
   "mimetype": "text/x-r-source",
   "name": "R",
   "pygments_lexer": "r",
   "version": "4.1.2"
  }
 },
 "nbformat": 4,
 "nbformat_minor": 5
}
